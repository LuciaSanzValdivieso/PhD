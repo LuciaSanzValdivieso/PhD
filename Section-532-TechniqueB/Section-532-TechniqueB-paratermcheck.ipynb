{
  "nbformat": 4,
  "nbformat_minor": 0,
  "metadata": {
    "colab": {
      "provenance": []
    },
    "kernelspec": {
      "name": "python3",
      "display_name": "Python 3"
    },
    "language_info": {
      "name": "python"
    }
  },
  "cells": [
    {
      "cell_type": "code",
      "execution_count": null,
      "metadata": {
        "id": "sZU4hJjhhvpv"
      },
      "outputs": [],
      "source": [
        "# To check the parallel segments in the corpus are separated by tabs (so that paratermcheck works)\n",
        "import codecs\n",
        "\n",
        "corpus = \"tab-separated-parallel-segments-corpus.txt\"  # Replace with corpus file\n",
        "\n",
        "with codecs.open(corpus, \"r\", encoding=\"utf-8\") as file:\n",
        "    for line_num, line in enumerate(file, start=1):\n",
        "        if \"\\t\" not in line:\n",
        "            print(f\"Error in line {line_num} of the corpus: {line.strip()}\")"
      ]
    },
    {
      "cell_type": "code",
      "source": [
        "# To check the parallel segments in the glossary are separated by tabs (so that paratermcheck works)\n",
        "import codecs\n",
        "\n",
        "termlist = \"tab-separated-equivalents-termlist.txt\"  # Replace with term list file\n",
        "\n",
        "with codecs.open(termlist, \"r\", encoding=\"utf-8\") as file:\n",
        "    for line_num, line in enumerate(file, start=1):\n",
        "        if \"\\t\" not in line:\n",
        "            print(f\"Error in line {line_num} of the term list: {line.strip()}\")"
      ],
      "metadata": {
        "id": "BTGFRh0Vh9T7"
      },
      "execution_count": null,
      "outputs": []
    },
    {
      "cell_type": "code",
      "source": [
        "import codecs\n",
        "import sys\n",
        "import re\n",
        "\n",
        "# Use: python3 checkparaterms.py corpus.txt termlist.txt output.txt\n",
        "\n",
        "corpus = sys.argv[1]\n",
        "termlist = sys.argv[2]\n",
        "nomsortida = sys.argv[3]\n",
        "\n",
        "termsfile = codecs.open(termlist, \"r\", encoding=\"utf-8\")\n",
        "termstuples = {}\n",
        "\n",
        "for termpair in termsfile:\n",
        "    termpair = termpair.strip()\n",
        "    termstuples[termpair] = 0\n",
        "\n",
        "termsfile.close()\n",
        "\n",
        "entrada = codecs.open(corpus, \"r\", encoding=\"utf-8\")\n",
        "\n",
        "sortida = codecs.open(nomsortida, \"w\", encoding=\"utf-8\")\n",
        "\n",
        "cont = 0\n",
        "for linia in entrada:\n",
        "    cont += 1\n",
        "    linia = linia.rstrip()\n",
        "    camps = linia.split(\"\\t\")\n",
        "    if len(camps) < 2:\n",
        "        print(f\"Error: Line {cont} does not match the expected format: {linia}\")\n",
        "        continue\n",
        "\n",
        "    segeng = camps[0]\n",
        "    segspa = camps[1]\n",
        "\n",
        "    for tp in termstuples:\n",
        "        camps = tp.split(\"\\t\")\n",
        "        eng = camps[0]\n",
        "        spas = camps[1].split(\":\")\n",
        "        regexp = re.compile(r'\\b{0}\\b'.format(re.escape(eng)), re.IGNORECASE)\n",
        "        found = False\n",
        "        if re.search(regexp, segeng):\n",
        "            for spa in spas:\n",
        "                regexp2 = re.compile(r'\\b{0}\\b'.format(re.escape(spa)), re.IGNORECASE)\n",
        "                if re.search(regexp2, segspa):\n",
        "                    found = True\n",
        "                    break\n",
        "        if found:\n",
        "            sortida.write(\"{0}\\t{1}\\n\".format(segeng, segspa))\n",
        "\n",
        "sortida.close()"
      ],
      "metadata": {
        "id": "_RF7IwQZiJDD"
      },
      "execution_count": null,
      "outputs": []
    }
  ]
}